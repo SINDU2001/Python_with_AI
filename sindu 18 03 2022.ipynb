{
 "cells": [
  {
   "cell_type": "code",
   "execution_count": 1,
   "id": "9d27265a",
   "metadata": {},
   "outputs": [
    {
     "ename": "AttributeError",
     "evalue": "'Turtle' object has no attribute 'done'",
     "output_type": "error",
     "traceback": [
      "\u001b[1;31m---------------------------------------------------------------------------\u001b[0m",
      "\u001b[1;31mAttributeError\u001b[0m                            Traceback (most recent call last)",
      "\u001b[1;32m<ipython-input-1-b29e9a4ac011>\u001b[0m in \u001b[0;36m<module>\u001b[1;34m\u001b[0m\n\u001b[0;32m     13\u001b[0m     \u001b[0msquare\u001b[0m\u001b[1;33m(\u001b[0m\u001b[1;36m100\u001b[0m\u001b[1;33m,\u001b[0m\u001b[1;36m90\u001b[0m\u001b[1;33m)\u001b[0m\u001b[1;33m\u001b[0m\u001b[1;33m\u001b[0m\u001b[0m\n\u001b[0;32m     14\u001b[0m     \u001b[0mt\u001b[0m\u001b[1;33m.\u001b[0m\u001b[0mright\u001b[0m\u001b[1;33m(\u001b[0m\u001b[1;36m5\u001b[0m\u001b[1;33m)\u001b[0m\u001b[1;33m\u001b[0m\u001b[1;33m\u001b[0m\u001b[0m\n\u001b[1;32m---> 15\u001b[1;33m \u001b[0mt\u001b[0m\u001b[1;33m.\u001b[0m\u001b[0mdone\u001b[0m\u001b[1;33m(\u001b[0m\u001b[1;33m)\u001b[0m\u001b[1;33m\u001b[0m\u001b[1;33m\u001b[0m\u001b[0m\n\u001b[0m\u001b[0;32m     16\u001b[0m \u001b[1;33m\u001b[0m\u001b[0m\n\u001b[0;32m     17\u001b[0m \u001b[1;33m\u001b[0m\u001b[0m\n",
      "\u001b[1;31mAttributeError\u001b[0m: 'Turtle' object has no attribute 'done'"
     ]
    }
   ],
   "source": [
    "# CIRCLE OF SQUARES:\n",
    "import turtle\n",
    "t = turtle.Turtle()\n",
    "t.speed(200)\n",
    "t.pencolor(\"blue\")\n",
    "\n",
    "def square(l,a):\n",
    "    for i in range(4):\n",
    "        t.forward(100)\n",
    "        t.right(90)\n",
    "        \n",
    "for i in range(200):\n",
    "    square(100,90)\n",
    "    t.right(5)\n",
    "t.done()    \n",
    "    \n",
    "        "
   ]
  },
  {
   "cell_type": "code",
   "execution_count": null,
   "id": "b5ffb9f6",
   "metadata": {},
   "outputs": [],
   "source": [
    "# square of squares:\n",
    "import turtle\n",
    "t = turtle.Turtle()\n",
    "t.speed(100)\n",
    "t.pencolor(\"blue\")\n",
    "\n",
    "def square(size):\n",
    "    for i in range(4):\n",
    "        t.forward(size)\n",
    "        t.right(90)\n",
    "square(146)\n",
    "square(126)\n",
    "square(96)\n",
    "square(86)\n",
    "square(74)\n",
    "square(12)"
   ]
  },
  {
   "cell_type": "markdown",
   "id": "ff48a925",
   "metadata": {},
   "source": [
    "# python statistics module\n",
    "- used to calculate mathematical statistics of numerical data\n",
    "- mean\n",
    "- median\n",
    "- mode\n",
    "- varience"
   ]
  },
  {
   "cell_type": "code",
   "execution_count": 4,
   "id": "b19ba707",
   "metadata": {},
   "outputs": [
    {
     "data": {
      "text/plain": [
       "[1, 2, 3, 4, 5, 6, 7, 8, 9, 10, 11, 12, 13, 14, 15, 16, 17, 18, 19, 20]"
      ]
     },
     "execution_count": 4,
     "metadata": {},
     "output_type": "execute_result"
    }
   ],
   "source": [
    "import statistics as st\n",
    "l = list(range(1,21))\n",
    "l"
   ]
  },
  {
   "cell_type": "code",
   "execution_count": 7,
   "id": "c0c676e7",
   "metadata": {},
   "outputs": [
    {
     "name": "stdout",
     "output_type": "stream",
     "text": [
      "10.5\n",
      "10.5\n"
     ]
    }
   ],
   "source": [
    "# mean\n",
    "print(st.mean(l))\n",
    "print(sum(l)/len(l))"
   ]
  },
  {
   "cell_type": "code",
   "execution_count": 8,
   "id": "ebc1e993",
   "metadata": {},
   "outputs": [
    {
     "name": "stdout",
     "output_type": "stream",
     "text": [
      "3\n"
     ]
    }
   ],
   "source": [
    "l = [1,2,3,4,5]\n",
    "print(st.median(l))"
   ]
  },
  {
   "cell_type": "code",
   "execution_count": 9,
   "id": "aa9d2b6a",
   "metadata": {},
   "outputs": [
    {
     "name": "stdout",
     "output_type": "stream",
     "text": [
      "9\n"
     ]
    }
   ],
   "source": [
    "l = [1,2,3,4,5,9,7,8,9]\n",
    "print(st.mode(l))"
   ]
  },
  {
   "cell_type": "code",
   "execution_count": 15,
   "id": "4b9e2c40",
   "metadata": {},
   "outputs": [
    {
     "name": "stdout",
     "output_type": "stream",
     "text": [
      "9.25\n"
     ]
    }
   ],
   "source": [
    "print(st.variance(l))"
   ]
  },
  {
   "cell_type": "markdown",
   "id": "5e49e690",
   "metadata": {},
   "source": [
    "# random module:\n",
    "- used to get random numbers\n"
   ]
  },
  {
   "cell_type": "code",
   "execution_count": 17,
   "id": "f62ac1b5",
   "metadata": {},
   "outputs": [
    {
     "data": {
      "text/plain": [
       "0.9547493364825226"
      ]
     },
     "execution_count": 17,
     "metadata": {},
     "output_type": "execute_result"
    }
   ],
   "source": [
    "import random as rd\n",
    "rd.random()"
   ]
  },
  {
   "cell_type": "code",
   "execution_count": 20,
   "id": "7e06aff3",
   "metadata": {},
   "outputs": [
    {
     "name": "stdout",
     "output_type": "stream",
     "text": [
      "10\n"
     ]
    }
   ],
   "source": [
    "# randint()\n",
    "print(rd.randint(1,11))"
   ]
  },
  {
   "cell_type": "code",
   "execution_count": 21,
   "id": "09b38a5c",
   "metadata": {},
   "outputs": [
    {
     "name": "stdout",
     "output_type": "stream",
     "text": [
      "1\n"
     ]
    }
   ],
   "source": [
    "# randrange()\n",
    "print(rd.randrange(1,11,13))"
   ]
  },
  {
   "cell_type": "code",
   "execution_count": 23,
   "id": "9f3f927c",
   "metadata": {},
   "outputs": [
    {
     "name": "stdout",
     "output_type": "stream",
     "text": [
      "4\n"
     ]
    }
   ],
   "source": [
    "# choice()\n",
    "l = [1,2,3,4,5]\n",
    "print(rd.choice(l))"
   ]
  },
  {
   "cell_type": "code",
   "execution_count": 25,
   "id": "680b19ac",
   "metadata": {},
   "outputs": [
    {
     "name": "stdout",
     "output_type": "stream",
     "text": [
      "None\n",
      "[5, 3, 1, 2, 4]\n"
     ]
    }
   ],
   "source": [
    "# shuffle()\n",
    "l = [1,2,3,4,5]\n",
    "print(rd.shuffle(l))\n",
    "print(l)"
   ]
  },
  {
   "cell_type": "markdown",
   "id": "504b2756",
   "metadata": {},
   "source": [
    "# numpy module:\n",
    "- mostly used with arrays\n",
    "- numpy stands for numerical python\n"
   ]
  },
  {
   "cell_type": "code",
   "execution_count": 27,
   "id": "accbcdb1",
   "metadata": {},
   "outputs": [
    {
     "name": "stdout",
     "output_type": "stream",
     "text": [
      "[1 2 3 4 5]\n",
      "<class 'numpy.ndarray'>\n"
     ]
    }
   ],
   "source": [
    "import numpy as np\n",
    "l = [1,2,3,4,5]\n",
    "arr = np.array(l)\n",
    "print(arr)\n",
    "print(type(arr))"
   ]
  },
  {
   "cell_type": "code",
   "execution_count": 30,
   "id": "0502cbeb",
   "metadata": {},
   "outputs": [
    {
     "name": "stdout",
     "output_type": "stream",
     "text": [
      "[1, 2, 3, 4, 5, 6, 7, 8, 9, 10, 11, 12, 13, 14, 15, 16, 17, 18, 19, 20]\n",
      "<class 'list'>\n"
     ]
    }
   ],
   "source": [
    "l = list(range(1,21))\n",
    "print(l)\n",
    "print(type(l))         "
   ]
  },
  {
   "cell_type": "code",
   "execution_count": 31,
   "id": "1b2f8f17",
   "metadata": {},
   "outputs": [
    {
     "name": "stdout",
     "output_type": "stream",
     "text": [
      "<class 'numpy.ndarray'>\n"
     ]
    },
    {
     "data": {
      "text/plain": [
       "array([ 1,  2,  3,  4,  5,  6,  7,  8,  9, 10, 11, 12, 13, 14, 15, 16, 17,\n",
       "       18, 19, 20])"
      ]
     },
     "execution_count": 31,
     "metadata": {},
     "output_type": "execute_result"
    }
   ],
   "source": [
    "arr2 = np.arange(1,21)\n",
    "print(type(arr2))\n",
    "arr2"
   ]
  },
  {
   "cell_type": "markdown",
   "id": "354b218f",
   "metadata": {},
   "source": [
    "# dimensions in array"
   ]
  },
  {
   "cell_type": "code",
   "execution_count": 32,
   "id": "66ba7709",
   "metadata": {},
   "outputs": [
    {
     "name": "stdout",
     "output_type": "stream",
     "text": [
      "[1 2 3 4 5]\n"
     ]
    }
   ],
   "source": [
    "# 1 - D\n",
    "import numpy as np\n",
    "arr = np.array([1,2,3,4,5])\n",
    "print(arr)"
   ]
  },
  {
   "cell_type": "code",
   "execution_count": 38,
   "id": "eb00e611",
   "metadata": {},
   "outputs": [
    {
     "name": "stdout",
     "output_type": "stream",
     "text": [
      "[[1 2 3 4]\n",
      " [5 6 7 8]]\n"
     ]
    }
   ],
   "source": [
    "#2-d\n",
    "arr1 = np.array([[1,2,3,4],[5,6,7,8]])\n",
    "print(arr1)"
   ]
  },
  {
   "cell_type": "code",
   "execution_count": 39,
   "id": "867b319f",
   "metadata": {},
   "outputs": [
    {
     "data": {
      "text/plain": [
       "array([[[1, 2, 3],\n",
       "        [3, 4, 5]],\n",
       "\n",
       "       [[5, 6, 7],\n",
       "        [7, 8, 9]]])"
      ]
     },
     "execution_count": 39,
     "metadata": {},
     "output_type": "execute_result"
    }
   ],
   "source": [
    "# 3-d\n",
    "arr2 = np.array([[[1,2,3],[3,4,5]],[[5,6,7],[7,8,9]]])\n",
    "arr2"
   ]
  },
  {
   "cell_type": "code",
   "execution_count": 42,
   "id": "20c4d901",
   "metadata": {},
   "outputs": [
    {
     "name": "stdout",
     "output_type": "stream",
     "text": [
      "4\n"
     ]
    }
   ],
   "source": [
    "# access this elements\n",
    "#1- d\n",
    "import numpy as np\n",
    "arr = np.array([1,2,3,4,5])\n",
    "print(arr[3])"
   ]
  },
  {
   "cell_type": "code",
   "execution_count": 44,
   "id": "339d8c17",
   "metadata": {},
   "outputs": [
    {
     "name": "stdout",
     "output_type": "stream",
     "text": [
      "6\n"
     ]
    }
   ],
   "source": [
    "#2-d\n",
    "arr1 = np.array([[1,2,3,4],[5,6,7,8]])\n",
    "print(arr1[1,1])"
   ]
  },
  {
   "cell_type": "code",
   "execution_count": 45,
   "id": "9532d2c8",
   "metadata": {},
   "outputs": [
    {
     "name": "stdout",
     "output_type": "stream",
     "text": [
      "4\n"
     ]
    }
   ],
   "source": [
    "print(arr1[0,3])"
   ]
  },
  {
   "cell_type": "code",
   "execution_count": 47,
   "id": "181c29f3",
   "metadata": {},
   "outputs": [
    {
     "name": "stdout",
     "output_type": "stream",
     "text": [
      "4\n"
     ]
    }
   ],
   "source": [
    "#3-d\n",
    "arr2 = np.array([[[1,2,3],[3,4,5]],[[5,6,7],[7,8,9]]])\n",
    "print(arr2[0,1,1])"
   ]
  },
  {
   "cell_type": "code",
   "execution_count": 49,
   "id": "472ebad4",
   "metadata": {},
   "outputs": [
    {
     "name": "stdout",
     "output_type": "stream",
     "text": [
      "7\n"
     ]
    }
   ],
   "source": [
    "print(arr2[1,0,2])"
   ]
  },
  {
   "cell_type": "code",
   "execution_count": 50,
   "id": "a8cc5c08",
   "metadata": {},
   "outputs": [
    {
     "name": "stdout",
     "output_type": "stream",
     "text": [
      "8\n",
      "[0.6472207  0.3074729  0.77294839 0.75892216]\n"
     ]
    }
   ],
   "source": [
    "from numpy import random\n",
    "print(random.randint(9))\n",
    "print(random.rand(4))"
   ]
  },
  {
   "cell_type": "code",
   "execution_count": 52,
   "id": "591e6bb1",
   "metadata": {},
   "outputs": [
    {
     "name": "stdout",
     "output_type": "stream",
     "text": [
      "[75 95 76]\n",
      "[[ 1 67  6 68]\n",
      " [28 44  9 34]]\n",
      "[[[29 95]\n",
      "  [ 9  7]\n",
      "  [52 69]\n",
      "  [36 65]]\n",
      "\n",
      " [[31  7]\n",
      "  [58 82]\n",
      "  [21 58]\n",
      "  [ 8 27]]\n",
      "\n",
      " [[72 40]\n",
      "  [82 49]\n",
      "  [25 21]\n",
      "  [72  6]]]\n"
     ]
    }
   ],
   "source": [
    "# create n- dimensional array with random integer values\n",
    "print(random.randint(100,size= 3))\n",
    "print(random.randint(100,size= (2,4)))\n",
    "print(random.randint(100,size= (3,4,2)))      \n",
    "      \n"
   ]
  },
  {
   "cell_type": "code",
   "execution_count": 54,
   "id": "461449fc",
   "metadata": {},
   "outputs": [
    {
     "name": "stdout",
     "output_type": "stream",
     "text": [
      "[0.45432057 0.86064589]\n",
      "[[0.35951143 0.57824535 0.44410373 0.41896404]\n",
      " [0.48003411 0.55541414 0.06765114 0.83696874]]\n",
      "[[[0.65169057 0.04525403 0.58020747 0.31784385]\n",
      "  [0.97298601 0.28698931 0.43526739 0.86435138]\n",
      "  [0.50883407 0.88941901 0.59423131 0.24523539]\n",
      "  [0.77895109 0.53011803 0.94218813 0.87270381]]\n",
      "\n",
      " [[0.48087114 0.86940351 0.22705182 0.81438885]\n",
      "  [0.37116002 0.42081924 0.39354181 0.78373081]\n",
      "  [0.99051111 0.91189182 0.09173722 0.67005453]\n",
      "  [0.24325341 0.92062291 0.85692454 0.26226447]]\n",
      "\n",
      " [[0.26997013 0.79937121 0.44240125 0.640739  ]\n",
      "  [0.26870851 0.26113372 0.17066755 0.56870193]\n",
      "  [0.60060965 0.41186796 0.95609053 0.96211317]\n",
      "  [0.90779473 0.23936114 0.69615979 0.76926054]]]\n"
     ]
    }
   ],
   "source": [
    "# create n- dimensional array with random decimal values\n",
    "print(random.rand(2))\n",
    "print(random.rand(2,4))\n",
    "print(random.rand(3,4,4))     \n",
    "      "
   ]
  },
  {
   "cell_type": "markdown",
   "id": "d3372ba1",
   "metadata": {},
   "source": [
    "# pandas module:\n",
    "- used to work with datasets"
   ]
  },
  {
   "cell_type": "code",
   "execution_count": 56,
   "id": "e54d53b3",
   "metadata": {},
   "outputs": [
    {
     "data": {
      "text/html": [
       "<div>\n",
       "<style scoped>\n",
       "    .dataframe tbody tr th:only-of-type {\n",
       "        vertical-align: middle;\n",
       "    }\n",
       "\n",
       "    .dataframe tbody tr th {\n",
       "        vertical-align: top;\n",
       "    }\n",
       "\n",
       "    .dataframe thead th {\n",
       "        text-align: right;\n",
       "    }\n",
       "</style>\n",
       "<table border=\"1\" class=\"dataframe\">\n",
       "  <thead>\n",
       "    <tr style=\"text-align: right;\">\n",
       "      <th></th>\n",
       "      <th>First</th>\n",
       "      <th>second</th>\n",
       "    </tr>\n",
       "  </thead>\n",
       "  <tbody>\n",
       "    <tr>\n",
       "      <th>a</th>\n",
       "      <td>1</td>\n",
       "      <td>4</td>\n",
       "    </tr>\n",
       "    <tr>\n",
       "      <th>b</th>\n",
       "      <td>2</td>\n",
       "      <td>5</td>\n",
       "    </tr>\n",
       "    <tr>\n",
       "      <th>c</th>\n",
       "      <td>3</td>\n",
       "      <td>6</td>\n",
       "    </tr>\n",
       "  </tbody>\n",
       "</table>\n",
       "</div>"
      ],
      "text/plain": [
       "  First second\n",
       "a     1      4\n",
       "b     2      5\n",
       "c     3      6"
      ]
     },
     "execution_count": 56,
     "metadata": {},
     "output_type": "execute_result"
    }
   ],
   "source": [
    "import pandas as pd\n",
    "d1 = {\"a\":\"1\",\"b\":\"2\",\"c\":\"3\"}\n",
    "d2 = {\"a\":\"4\",\"b\":\"5\",\"c\":\"6\"}\n",
    "data ={\"First\":d1,\"second\":d2}\n",
    "df = pd.DataFrame(data)\n",
    "df"
   ]
  },
  {
   "cell_type": "code",
   "execution_count": 8,
   "id": "2a256343",
   "metadata": {},
   "outputs": [
    {
     "data": {
      "text/html": [
       "<div>\n",
       "<style scoped>\n",
       "    .dataframe tbody tr th:only-of-type {\n",
       "        vertical-align: middle;\n",
       "    }\n",
       "\n",
       "    .dataframe tbody tr th {\n",
       "        vertical-align: top;\n",
       "    }\n",
       "\n",
       "    .dataframe thead th {\n",
       "        text-align: right;\n",
       "    }\n",
       "</style>\n",
       "<table border=\"1\" class=\"dataframe\">\n",
       "  <thead>\n",
       "    <tr style=\"text-align: right;\">\n",
       "      <th></th>\n",
       "      <th>First</th>\n",
       "      <th>second</th>\n",
       "    </tr>\n",
       "  </thead>\n",
       "  <tbody>\n",
       "    <tr>\n",
       "      <th>a</th>\n",
       "      <td>1</td>\n",
       "      <td>NaN</td>\n",
       "    </tr>\n",
       "    <tr>\n",
       "      <th>b</th>\n",
       "      <td>2</td>\n",
       "      <td>NaN</td>\n",
       "    </tr>\n",
       "    <tr>\n",
       "      <th>c</th>\n",
       "      <td>3</td>\n",
       "      <td>NaN</td>\n",
       "    </tr>\n",
       "    <tr>\n",
       "      <th>d</th>\n",
       "      <td>NaN</td>\n",
       "      <td>4</td>\n",
       "    </tr>\n",
       "    <tr>\n",
       "      <th>e</th>\n",
       "      <td>NaN</td>\n",
       "      <td>5</td>\n",
       "    </tr>\n",
       "    <tr>\n",
       "      <th>f</th>\n",
       "      <td>NaN</td>\n",
       "      <td>6</td>\n",
       "    </tr>\n",
       "  </tbody>\n",
       "</table>\n",
       "</div>"
      ],
      "text/plain": [
       "  First second\n",
       "a     1    NaN\n",
       "b     2    NaN\n",
       "c     3    NaN\n",
       "d   NaN      4\n",
       "e   NaN      5\n",
       "f   NaN      6"
      ]
     },
     "execution_count": 8,
     "metadata": {},
     "output_type": "execute_result"
    }
   ],
   "source": [
    "import pandas as pd\n",
    "d1 = {\"a\":\"1\",\"b\":\"2\",\"c\":\"3\"}\n",
    "d2 = {\"d\":\"4\",\"e\":\"5\",\"f\":\"6\"}\n",
    "data ={\"First\":d1,\"second\":d2}\n",
    "df = pd.DataFrame(data)\n",
    "df"
   ]
  },
  {
   "cell_type": "code",
   "execution_count": 9,
   "id": "9a9be556",
   "metadata": {},
   "outputs": [
    {
     "data": {
      "text/html": [
       "<div>\n",
       "<style scoped>\n",
       "    .dataframe tbody tr th:only-of-type {\n",
       "        vertical-align: middle;\n",
       "    }\n",
       "\n",
       "    .dataframe tbody tr th {\n",
       "        vertical-align: top;\n",
       "    }\n",
       "\n",
       "    .dataframe thead th {\n",
       "        text-align: right;\n",
       "    }\n",
       "</style>\n",
       "<table border=\"1\" class=\"dataframe\">\n",
       "  <thead>\n",
       "    <tr style=\"text-align: right;\">\n",
       "      <th></th>\n",
       "      <th>Name</th>\n",
       "      <th>address</th>\n",
       "    </tr>\n",
       "  </thead>\n",
       "  <tbody>\n",
       "    <tr>\n",
       "      <th>0</th>\n",
       "      <td>sindu</td>\n",
       "      <td>srp</td>\n",
       "    </tr>\n",
       "    <tr>\n",
       "      <th>1</th>\n",
       "      <td>rupa</td>\n",
       "      <td>pgd</td>\n",
       "    </tr>\n",
       "    <tr>\n",
       "      <th>2</th>\n",
       "      <td>anil</td>\n",
       "      <td>pjh</td>\n",
       "    </tr>\n",
       "    <tr>\n",
       "      <th>3</th>\n",
       "      <td>prudhvi</td>\n",
       "      <td>kcp</td>\n",
       "    </tr>\n",
       "    <tr>\n",
       "      <th>4</th>\n",
       "      <td>sandeep</td>\n",
       "      <td>gwk</td>\n",
       "    </tr>\n",
       "  </tbody>\n",
       "</table>\n",
       "</div>"
      ],
      "text/plain": [
       "      Name address\n",
       "0    sindu     srp\n",
       "1     rupa     pgd\n",
       "2     anil     pjh\n",
       "3  prudhvi     kcp\n",
       "4  sandeep     gwk"
      ]
     },
     "execution_count": 9,
     "metadata": {},
     "output_type": "execute_result"
    }
   ],
   "source": [
    "d = {\"Name\":[\"sindu\",\"rupa\",\"anil\",\"prudhvi\",\"sandeep\"],\"address\":[\"srp\",\"pgd\",\"pjh\",\"kcp\",\"gwk\"]}\n",
    "df = pd.DataFrame(d)\n",
    "df"
   ]
  },
  {
   "cell_type": "code",
   "execution_count": 10,
   "id": "4308e10e",
   "metadata": {},
   "outputs": [
    {
     "data": {
      "text/html": [
       "<div>\n",
       "<style scoped>\n",
       "    .dataframe tbody tr th:only-of-type {\n",
       "        vertical-align: middle;\n",
       "    }\n",
       "\n",
       "    .dataframe tbody tr th {\n",
       "        vertical-align: top;\n",
       "    }\n",
       "\n",
       "    .dataframe thead th {\n",
       "        text-align: right;\n",
       "    }\n",
       "</style>\n",
       "<table border=\"1\" class=\"dataframe\">\n",
       "  <thead>\n",
       "    <tr style=\"text-align: right;\">\n",
       "      <th></th>\n",
       "      <th>columns1</th>\n",
       "      <th>column2</th>\n",
       "      <th>column3</th>\n",
       "    </tr>\n",
       "  </thead>\n",
       "  <tbody>\n",
       "    <tr>\n",
       "      <th>0</th>\n",
       "      <td>a</td>\n",
       "      <td>1</td>\n",
       "      <td>1.1</td>\n",
       "    </tr>\n",
       "    <tr>\n",
       "      <th>1</th>\n",
       "      <td>b</td>\n",
       "      <td>2</td>\n",
       "      <td>1.2</td>\n",
       "    </tr>\n",
       "    <tr>\n",
       "      <th>2</th>\n",
       "      <td>c</td>\n",
       "      <td>3</td>\n",
       "      <td>1.3</td>\n",
       "    </tr>\n",
       "    <tr>\n",
       "      <th>3</th>\n",
       "      <td>d</td>\n",
       "      <td>4</td>\n",
       "      <td>1.4</td>\n",
       "    </tr>\n",
       "    <tr>\n",
       "      <th>4</th>\n",
       "      <td>e</td>\n",
       "      <td>5</td>\n",
       "      <td>1.5</td>\n",
       "    </tr>\n",
       "  </tbody>\n",
       "</table>\n",
       "</div>"
      ],
      "text/plain": [
       "  columns1  column2  column3\n",
       "0        a        1      1.1\n",
       "1        b        2      1.2\n",
       "2        c        3      1.3\n",
       "3        d        4      1.4\n",
       "4        e        5      1.5"
      ]
     },
     "execution_count": 10,
     "metadata": {},
     "output_type": "execute_result"
    }
   ],
   "source": [
    "# series\n",
    "s1 = pd.Series([1,2,3,4,5])\n",
    "s2 = pd.Series([1.1,1.2,1.3,1.4,1.5])\n",
    "s3 = pd.Series([\"a\",\"b\",\"c\",\"d\",\"e\"])\n",
    "data = {\"columns1\":s3,\"column2\":s1,\"column3\":s2}\n",
    "df = pd.DataFrame(data)\n",
    "df"
   ]
  },
  {
   "cell_type": "markdown",
   "id": "42468b34",
   "metadata": {},
   "source": [
    "# select data from data frame\n"
   ]
  },
  {
   "cell_type": "code",
   "execution_count": 65,
   "id": "a29a025f",
   "metadata": {},
   "outputs": [
    {
     "data": {
      "text/plain": [
       "0    a\n",
       "1    b\n",
       "2    c\n",
       "3    d\n",
       "4    e\n",
       "Name: columns1, dtype: object"
      ]
     },
     "execution_count": 65,
     "metadata": {},
     "output_type": "execute_result"
    }
   ],
   "source": [
    "df[\"columns1\"]"
   ]
  },
  {
   "cell_type": "code",
   "execution_count": 66,
   "id": "66acf539",
   "metadata": {},
   "outputs": [
    {
     "data": {
      "text/plain": [
       "0    1.1\n",
       "1    1.2\n",
       "2    1.3\n",
       "3    1.4\n",
       "4    1.5\n",
       "Name: column3, dtype: float64"
      ]
     },
     "execution_count": 66,
     "metadata": {},
     "output_type": "execute_result"
    }
   ],
   "source": [
    "df[\"column3\"]"
   ]
  },
  {
   "cell_type": "code",
   "execution_count": 67,
   "id": "ae438520",
   "metadata": {},
   "outputs": [
    {
     "data": {
      "text/plain": [
       "'e'"
      ]
     },
     "execution_count": 67,
     "metadata": {},
     "output_type": "execute_result"
    }
   ],
   "source": [
    "df.loc[4,\"columns1\"]"
   ]
  },
  {
   "cell_type": "code",
   "execution_count": 69,
   "id": "a995d7fc",
   "metadata": {},
   "outputs": [
    {
     "data": {
      "text/plain": [
       "1.3"
      ]
     },
     "execution_count": 69,
     "metadata": {},
     "output_type": "execute_result"
    }
   ],
   "source": [
    "df.loc[2,\"column3\"]"
   ]
  },
  {
   "cell_type": "code",
   "execution_count": 17,
   "id": "547d328c",
   "metadata": {},
   "outputs": [
    {
     "data": {
      "text/plain": [
       "columns1      b\n",
       "column2       2\n",
       "column3     1.2\n",
       "Name: 1, dtype: object"
      ]
     },
     "execution_count": 17,
     "metadata": {},
     "output_type": "execute_result"
    }
   ],
   "source": [
    "df.iloc[1]"
   ]
  },
  {
   "cell_type": "code",
   "execution_count": 12,
   "id": "221334ea",
   "metadata": {},
   "outputs": [
    {
     "data": {
      "text/plain": [
       "columns1      d\n",
       "column2       4\n",
       "column3     1.4\n",
       "Name: 3, dtype: object"
      ]
     },
     "execution_count": 12,
     "metadata": {},
     "output_type": "execute_result"
    }
   ],
   "source": [
    "df.iloc[3]"
   ]
  },
  {
   "cell_type": "code",
   "execution_count": 13,
   "id": "3bb3d74d",
   "metadata": {},
   "outputs": [
    {
     "data": {
      "text/html": [
       "<div>\n",
       "<style scoped>\n",
       "    .dataframe tbody tr th:only-of-type {\n",
       "        vertical-align: middle;\n",
       "    }\n",
       "\n",
       "    .dataframe tbody tr th {\n",
       "        vertical-align: top;\n",
       "    }\n",
       "\n",
       "    .dataframe thead th {\n",
       "        text-align: right;\n",
       "    }\n",
       "</style>\n",
       "<table border=\"1\" class=\"dataframe\">\n",
       "  <thead>\n",
       "    <tr style=\"text-align: right;\">\n",
       "      <th></th>\n",
       "      <th>columns1</th>\n",
       "      <th>column2</th>\n",
       "      <th>column3</th>\n",
       "    </tr>\n",
       "  </thead>\n",
       "  <tbody>\n",
       "    <tr>\n",
       "      <th>3</th>\n",
       "      <td>d</td>\n",
       "      <td>4</td>\n",
       "      <td>1.4</td>\n",
       "    </tr>\n",
       "    <tr>\n",
       "      <th>2</th>\n",
       "      <td>c</td>\n",
       "      <td>3</td>\n",
       "      <td>1.3</td>\n",
       "    </tr>\n",
       "  </tbody>\n",
       "</table>\n",
       "</div>"
      ],
      "text/plain": [
       "  columns1  column2  column3\n",
       "3        d        4      1.4\n",
       "2        c        3      1.3"
      ]
     },
     "execution_count": 13,
     "metadata": {},
     "output_type": "execute_result"
    }
   ],
   "source": [
    "df.sample(2)"
   ]
  },
  {
   "cell_type": "code",
   "execution_count": 14,
   "id": "fc201ff7",
   "metadata": {},
   "outputs": [
    {
     "data": {
      "text/html": [
       "<div>\n",
       "<style scoped>\n",
       "    .dataframe tbody tr th:only-of-type {\n",
       "        vertical-align: middle;\n",
       "    }\n",
       "\n",
       "    .dataframe tbody tr th {\n",
       "        vertical-align: top;\n",
       "    }\n",
       "\n",
       "    .dataframe thead th {\n",
       "        text-align: right;\n",
       "    }\n",
       "</style>\n",
       "<table border=\"1\" class=\"dataframe\">\n",
       "  <thead>\n",
       "    <tr style=\"text-align: right;\">\n",
       "      <th></th>\n",
       "      <th>columns1</th>\n",
       "      <th>column2</th>\n",
       "      <th>column3</th>\n",
       "    </tr>\n",
       "  </thead>\n",
       "  <tbody>\n",
       "    <tr>\n",
       "      <th>0</th>\n",
       "      <td>a</td>\n",
       "      <td>1</td>\n",
       "      <td>1.1</td>\n",
       "    </tr>\n",
       "    <tr>\n",
       "      <th>1</th>\n",
       "      <td>b</td>\n",
       "      <td>2</td>\n",
       "      <td>1.2</td>\n",
       "    </tr>\n",
       "    <tr>\n",
       "      <th>2</th>\n",
       "      <td>c</td>\n",
       "      <td>3</td>\n",
       "      <td>1.3</td>\n",
       "    </tr>\n",
       "  </tbody>\n",
       "</table>\n",
       "</div>"
      ],
      "text/plain": [
       "  columns1  column2  column3\n",
       "0        a        1      1.1\n",
       "1        b        2      1.2\n",
       "2        c        3      1.3"
      ]
     },
     "execution_count": 14,
     "metadata": {},
     "output_type": "execute_result"
    }
   ],
   "source": [
    "df.head(3)"
   ]
  },
  {
   "cell_type": "code",
   "execution_count": 16,
   "id": "321639ed",
   "metadata": {},
   "outputs": [
    {
     "data": {
      "text/html": [
       "<div>\n",
       "<style scoped>\n",
       "    .dataframe tbody tr th:only-of-type {\n",
       "        vertical-align: middle;\n",
       "    }\n",
       "\n",
       "    .dataframe tbody tr th {\n",
       "        vertical-align: top;\n",
       "    }\n",
       "\n",
       "    .dataframe thead th {\n",
       "        text-align: right;\n",
       "    }\n",
       "</style>\n",
       "<table border=\"1\" class=\"dataframe\">\n",
       "  <thead>\n",
       "    <tr style=\"text-align: right;\">\n",
       "      <th></th>\n",
       "      <th>columns1</th>\n",
       "      <th>column2</th>\n",
       "      <th>column3</th>\n",
       "    </tr>\n",
       "  </thead>\n",
       "  <tbody>\n",
       "    <tr>\n",
       "      <th>4</th>\n",
       "      <td>e</td>\n",
       "      <td>5</td>\n",
       "      <td>1.5</td>\n",
       "    </tr>\n",
       "  </tbody>\n",
       "</table>\n",
       "</div>"
      ],
      "text/plain": [
       "  columns1  column2  column3\n",
       "4        e        5      1.5"
      ]
     },
     "execution_count": 16,
     "metadata": {},
     "output_type": "execute_result"
    }
   ],
   "source": [
    "df.tail(1)"
   ]
  },
  {
   "cell_type": "markdown",
   "id": "b6d0b651",
   "metadata": {},
   "source": [
    "# matplotlib:\n",
    "- used to draw graphs"
   ]
  },
  {
   "cell_type": "code",
   "execution_count": 4,
   "id": "06460371",
   "metadata": {},
   "outputs": [
    {
     "data": {
      "image/png": "[encoded data removed]",
      "text/plain": [
       "<Figure size 432x288 with 1 Axes>"
      ]
     },
     "metadata": {
      "needs_background": "light"
     },
     "output_type": "display_data"
    }
   ],
   "source": [
    "import matplotlib.pyplot as plt\n",
    "import numpy as np\n",
    "x = np.array([1,5,9,7,5])\n",
    "y = np.array([5,3,2,5,8])\n",
    "\n",
    "plt.title(\"Graph\")\n",
    "plt.xlabel(\"x_axis\")\n",
    "plt.ylabel(\"y_axis\")\n",
    "plt.plot(x,y)\n",
    "plt.show()"
   ]
  },
  {
   "cell_type": "code",
   "execution_count": 6,
   "id": "ef6cd20d",
   "metadata": {},
   "outputs": [
    {
     "data": {
      "image/png": "[encoded data removed]",
      "text/plain": [
       "<Figure size 432x288 with 1 Axes>"
      ]
     },
     "metadata": {
      "needs_background": "light"
     },
     "output_type": "display_data"
    }
   ],
   "source": [
    "y = np.array([9,3,2,5,8])\n",
    "\n",
    "plt.title(\"Graph\")\n",
    "plt.xlabel(\"x_axis\")\n",
    "plt.ylabel(\"y_axis\")\n",
    "plt.plot(x,y)\n",
    "plt.show()"
   ]
  },
  {
   "cell_type": "code",
   "execution_count": 7,
   "id": "574c989d",
   "metadata": {},
   "outputs": [
    {
     "data": {
      "text/plain": [
       "[<matplotlib.lines.Line2D at 0x12cbca982e0>]"
      ]
     },
     "execution_count": 7,
     "metadata": {},
     "output_type": "execute_result"
    },
    {
     "data": {
      "image/png": "[encoded data removed]",
      "text/plain": [
       "<Figure size 432x288 with 5 Axes>"
      ]
     },
     "metadata": {
      "needs_background": "light"
     },
     "output_type": "display_data"
    }
   ],
   "source": [
    "#plot1\n",
    "x = np.array([1,5,9,7,5])\n",
    "y = np.array([5,3,2,5,8])\n",
    "plt.subplot(2,3,1)\n",
    "plt.plot(x,y)\n",
    "#plot2\n",
    "x = np.array([1,5,9,7,5])\n",
    "y = np.array([5,3,2,5,8])\n",
    "plt.subplot(2,3,2)\n",
    "plt.plot(x,y)\n",
    "#plot3\n",
    "x = np.array([1,5,9,7,5])\n",
    "y = np.array([5,3,2,5,8])\n",
    "plt.subplot(2,3,3)\n",
    "plt.plot(x,y)\n",
    "#plot4\n",
    "x = np.array([1,5,9,7,5])\n",
    "y = np.array([5,3,2,5,8])\n",
    "plt.subplot(2,3,4)\n",
    "plt.plot(x,y)\n",
    "#plot5\n",
    "x = np.array([1,5,9,7,5])\n",
    "y = np.array([5,3,2,5,8])\n",
    "plt.subplot(2,3,5)\n",
    "plt.plot(x,y)"
   ]
  },
  {
   "cell_type": "code",
   "execution_count": null,
   "id": "696d0d2e",
   "metadata": {},
   "outputs": [],
   "source": []
  }
 ],
 "metadata": {
  "kernelspec": {
   "display_name": "Python 3",
   "language": "python",
   "name": "python3"
  },
  "language_info": {
   "codemirror_mode": {
    "name": "ipython",
    "version": 3
   },
   "file_extension": ".py",
   "mimetype": "text/x-python",
   "name": "python",
   "nbconvert_exporter": "python",
   "pygments_lexer": "ipython3",
   "version": "3.8.8"
  }
 },
 "nbformat": 4,
 "nbformat_minor": 5
}
