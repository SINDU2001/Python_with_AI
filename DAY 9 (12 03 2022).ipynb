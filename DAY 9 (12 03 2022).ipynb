{
 "cells": [
  {
   "cell_type": "markdown",
   "id": "7c44c6dc",
   "metadata": {},
   "source": [
    "# contact application\n",
    "- add contacts\n",
    "- search\n",
    "- update\n",
    "- merge\n",
    "- delete contacts"
   ]
  },
  {
   "cell_type": "code",
   "execution_count": 1,
   "id": "a08e9e6b",
   "metadata": {},
   "outputs": [
    {
     "name": "stdout",
     "output_type": "stream",
     "text": [
      "contact is added\n"
     ]
    }
   ],
   "source": [
    "# add contacts\n",
    "contacts = {}\n",
    "def addcontacts(name,number):\n",
    "    if name not in contacts:\n",
    "        contacts[name]= number\n",
    "        print(\"contact is added\")\n",
    "    else:\n",
    "        print(\"contact is already exist\")\n",
    "addcontacts(\"Sindu\",\"852369741\")        "
   ]
  },
  {
   "cell_type": "code",
   "execution_count": 3,
   "id": "c6fce2f8",
   "metadata": {},
   "outputs": [
    {
     "name": "stdout",
     "output_type": "stream",
     "text": [
      "contact is added\n"
     ]
    }
   ],
   "source": [
    "addcontacts(\"priya\",\"7896541231\")"
   ]
  },
  {
   "cell_type": "code",
   "execution_count": 4,
   "id": "720f82a4",
   "metadata": {},
   "outputs": [
    {
     "data": {
      "text/plain": [
       "{'Sindu': '852369741', 'priya': '7896541231'}"
      ]
     },
     "execution_count": 4,
     "metadata": {},
     "output_type": "execute_result"
    }
   ],
   "source": [
    "contacts"
   ]
  },
  {
   "cell_type": "code",
   "execution_count": 7,
   "id": "f3482f4a",
   "metadata": {},
   "outputs": [
    {
     "name": "stdout",
     "output_type": "stream",
     "text": [
      "Sindu : 852369741\n"
     ]
    }
   ],
   "source": [
    "# search contacts\n",
    "def searchcontact(name):\n",
    "    if name in contacts:\n",
    "        print(name,\":\",contacts[name])\n",
    "    else:\n",
    "        print(\"contact not exist\")\n",
    "searchcontact(\"Sindu\")       "
   ]
  },
  {
   "cell_type": "code",
   "execution_count": 10,
   "id": "6456db85",
   "metadata": {},
   "outputs": [
    {
     "name": "stdout",
     "output_type": "stream",
     "text": [
      "contact not exist\n"
     ]
    }
   ],
   "source": [
    "# delete contact\n",
    "def delcontact(name):\n",
    "    if name in contacts:\n",
    "        del contacts[name]\n",
    "    else:\n",
    "        print(\"contact not exist\")\n",
    "delcontact(\"priya\")        \n"
   ]
  },
  {
   "cell_type": "code",
   "execution_count": 11,
   "id": "f15b5a22",
   "metadata": {},
   "outputs": [
    {
     "data": {
      "text/plain": [
       "{'Sindu': '852369741'}"
      ]
     },
     "execution_count": 11,
     "metadata": {},
     "output_type": "execute_result"
    }
   ],
   "source": [
    "contacts"
   ]
  },
  {
   "cell_type": "code",
   "execution_count": 12,
   "id": "90f52a0e",
   "metadata": {},
   "outputs": [
    {
     "name": "stdout",
     "output_type": "stream",
     "text": [
      "contact not exist\n"
     ]
    }
   ],
   "source": [
    "delcontact(\"priya\")"
   ]
  },
  {
   "cell_type": "code",
   "execution_count": 28,
   "id": "143a4be0",
   "metadata": {},
   "outputs": [
    {
     "name": "stdout",
     "output_type": "stream",
     "text": [
      "2 contacts are added\n"
     ]
    }
   ],
   "source": [
    "# merge contacts\n",
    "def mergecontact(newcontacts):\n",
    "    contacts.update(newcontacts)\n",
    "    print(len(newcontacts.keys()),\"contacts are added\")\n",
    "newcontacts = {\"durga\":\"123654789\",\"divya\":\"3696882514\"}\n",
    "mergecontact(newcontacts)\n",
    "\n",
    "    \n",
    "    "
   ]
  },
  {
   "cell_type": "code",
   "execution_count": 29,
   "id": "197ee7b4",
   "metadata": {},
   "outputs": [
    {
     "data": {
      "text/plain": [
       "{'Sindu': '852369741',\n",
       " 'durga': '123654789',\n",
       " 'divya': '3696882514',\n",
       " 'lalitha': '1236547895'}"
      ]
     },
     "execution_count": 29,
     "metadata": {},
     "output_type": "execute_result"
    }
   ],
   "source": [
    "contacts"
   ]
  },
  {
   "cell_type": "markdown",
   "id": "418a0802",
   "metadata": {},
   "source": []
  },
  {
   "cell_type": "markdown",
   "id": "5018527b",
   "metadata": {},
   "source": [
    "# string methods\n",
    "- uypper"
   ]
  },
  {
   "cell_type": "code",
   "execution_count": 20,
   "id": "37e99243",
   "metadata": {},
   "outputs": [
    {
     "name": "stdout",
     "output_type": "stream",
     "text": [
      "python\n",
      "PYTHON\n",
      "p y t h o n\n",
      "p,y,t,h,o,n\n",
      "p@y@t@h@o@n\n"
     ]
    }
   ],
   "source": [
    "s = \"python\"\n",
    "print(s.lower())\n",
    "print(s.upper())\n",
    "print(\" \".join(s))\n",
    "print(\",\".join(s))\n",
    "print(\"@\".join(s))"
   ]
  },
  {
   "cell_type": "code",
   "execution_count": 22,
   "id": "9fd06db1",
   "metadata": {},
   "outputs": [
    {
     "name": "stdout",
     "output_type": "stream",
     "text": [
      "['python', 'is', 'simple', 'programming', 'language']\n",
      "['python i', ' ', 'imple programming language']\n",
      "['python is simple progr', 'mming l', 'ngu', 'ge']\n"
     ]
    }
   ],
   "source": [
    "# split method\n",
    "s = \"python is simple programming language\"\n",
    "print(s.split())\n",
    "print(s.split(\"s\"))\n",
    "print(s.split(\"a\"))"
   ]
  },
  {
   "cell_type": "code",
   "execution_count": 23,
   "id": "af1ae0fb",
   "metadata": {},
   "outputs": [
    {
     "name": "stdout",
     "output_type": "stream",
     "text": [
      "python is a easy progeamming language\n"
     ]
    }
   ],
   "source": [
    "s = \"python is a simple progeamming language\"\n",
    "print(s.replace(\"simple\",\"easy\"))"
   ]
  },
  {
   "cell_type": "markdown",
   "id": "f1442935",
   "metadata": {},
   "source": [
    "# boolean functions:\n",
    "- islower()\n",
    "- isupper()\n",
    "- istitle\n",
    "- isnumeric()\n",
    "- isspace()\n",
    "- isalpha()\n"
   ]
  },
  {
   "cell_type": "code",
   "execution_count": 30,
   "id": "958a3cda",
   "metadata": {},
   "outputs": [
    {
     "name": "stdout",
     "output_type": "stream",
     "text": [
      "True\n"
     ]
    }
   ],
   "source": [
    "s = \"python\"\n",
    "print(s.islower())"
   ]
  },
  {
   "cell_type": "code",
   "execution_count": 32,
   "id": "d00fcdbd",
   "metadata": {},
   "outputs": [
    {
     "name": "stdout",
     "output_type": "stream",
     "text": [
      "True\n"
     ]
    }
   ],
   "source": [
    "s = \"PYTHON\"\n",
    "print(s.isupper())"
   ]
  },
  {
   "cell_type": "code",
   "execution_count": 34,
   "id": "3391f59e",
   "metadata": {},
   "outputs": [
    {
     "name": "stdout",
     "output_type": "stream",
     "text": [
      "True\n"
     ]
    }
   ],
   "source": [
    "s = \"Python\"\n",
    "print(s.istitle())"
   ]
  },
  {
   "cell_type": "code",
   "execution_count": 35,
   "id": "987a316f",
   "metadata": {},
   "outputs": [
    {
     "name": "stdout",
     "output_type": "stream",
     "text": [
      "True\n"
     ]
    }
   ],
   "source": [
    "s = \"Python\"\n",
    "print(s.isalpha())"
   ]
  },
  {
   "cell_type": "code",
   "execution_count": 37,
   "id": "36be6157",
   "metadata": {},
   "outputs": [
    {
     "name": "stdout",
     "output_type": "stream",
     "text": [
      "True\n"
     ]
    }
   ],
   "source": [
    "s = \"94230\"\n",
    "print(s.isnumeric())"
   ]
  },
  {
   "cell_type": "code",
   "execution_count": 39,
   "id": "7e041902",
   "metadata": {},
   "outputs": [
    {
     "name": "stdout",
     "output_type": "stream",
     "text": [
      "True\n"
     ]
    }
   ],
   "source": [
    "s1 = \" \"\n",
    "s2 = \"s\"\n",
    "print(s1.isspace())\n"
   ]
  },
  {
   "cell_type": "markdown",
   "id": "e7cea7a4",
   "metadata": {},
   "source": [
    "# FILE HANDLING\n",
    "- FILE HANDLING PLAY IMPORTANT ROLE IN WEB APPLICATION\n",
    "- IN FILE HANDLING TO DEAL WITH ANY FILE WILL USE **OPEN** FUNCTOIN\n",
    "- IN THIS **OPEN** FUNCTION WILL 2 PARAMETERS FILENAME,MODE\n",
    "- **MODE**\n",
    "- **w** -- WRITE TO FILE\n",
    "- **a** -- APPEND TO FILE\n",
    "- **r** -- READ A FILE"
   ]
  },
  {
   "cell_type": "code",
   "execution_count": null,
   "id": "9a4778e4",
   "metadata": {},
   "outputs": [],
   "source": [
    "f = open(\"file.txt\",\"r\")\n",
    "print(f.read())"
   ]
  }
 ],
 "metadata": {
  "kernelspec": {
   "display_name": "Python 3 (ipykernel)",
   "language": "python",
   "name": "python3"
  },
  "language_info": {
   "codemirror_mode": {
    "name": "ipython",
    "version": 3
   },
   "file_extension": ".py",
   "mimetype": "text/x-python",
   "name": "python",
   "nbconvert_exporter": "python",
   "pygments_lexer": "ipython3",
   "version": "3.9.7"
  }
 },
 "nbformat": 4,
 "nbformat_minor": 5
}
