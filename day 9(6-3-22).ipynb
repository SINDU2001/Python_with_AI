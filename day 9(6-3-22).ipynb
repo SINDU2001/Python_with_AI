{
 "cells": [
  {
   "cell_type": "markdown",
   "id": "b3b06b89",
   "metadata": {},
   "source": [
    "# DICTIONARIES\n",
    "- Store data Values in key Values Pairs\n",
    "- Dictionary "
   ]
  },
  {
   "cell_type": "code",
   "execution_count": 5,
   "id": "aeed58d5",
   "metadata": {},
   "outputs": [
    {
     "ename": "SyntaxError",
     "evalue": "invalid syntax (Temp/ipykernel_5816/3953263057.py, line 1)",
     "output_type": "error",
     "traceback": [
      "\u001b[1;36m  File \u001b[1;32m\"C:\\Users\\USER20~1\\AppData\\Local\\Temp/ipykernel_5816/3953263057.py\"\u001b[1;36m, line \u001b[1;32m1\u001b[0m\n\u001b[1;33m    d1={\"Name\":\"Python\",\"Email\":\"Python@gmail.com\",\"city\"}\u001b[0m\n\u001b[1;37m                                                         ^\u001b[0m\n\u001b[1;31mSyntaxError\u001b[0m\u001b[1;31m:\u001b[0m invalid syntax\n"
     ]
    }
   ],
   "source": [
    "d1={\"Name\":\"Python\",\"Email\":\"Python@gmail.com\",\"city\"}\n",
    "print(d1)\n",
    "print(type(d1))"
   ]
  },
  {
   "cell_type": "code",
   "execution_count": 2,
   "id": "7f59ad16",
   "metadata": {},
   "outputs": [
    {
     "ename": "TypeError",
     "evalue": "'set' object is not subscriptable",
     "output_type": "error",
     "traceback": [
      "\u001b[1;31m---------------------------------------------------------------------------\u001b[0m",
      "\u001b[1;31mTypeError\u001b[0m                                 Traceback (most recent call last)",
      "\u001b[1;32mC:\\Users\\USER20~1\\AppData\\Local\\Temp/ipykernel_5816/3842082311.py\u001b[0m in \u001b[0;36m<module>\u001b[1;34m\u001b[0m\n\u001b[0;32m      1\u001b[0m \u001b[1;31m# Access the particular key\u001b[0m\u001b[1;33m\u001b[0m\u001b[1;33m\u001b[0m\u001b[0m\n\u001b[1;32m----> 2\u001b[1;33m \u001b[0mprint\u001b[0m\u001b[1;33m(\u001b[0m\u001b[0md1\u001b[0m\u001b[1;33m[\u001b[0m\u001b[1;34m\"Name\"\u001b[0m\u001b[1;33m]\u001b[0m\u001b[1;33m)\u001b[0m\u001b[1;33m\u001b[0m\u001b[1;33m\u001b[0m\u001b[0m\n\u001b[0m",
      "\u001b[1;31mTypeError\u001b[0m: 'set' object is not subscriptable"
     ]
    }
   ],
   "source": [
    "# Access the particular key\n",
    "print(d1[\"Name\"])\n"
   ]
  },
  {
   "cell_type": "code",
   "execution_count": 6,
   "id": "47a0b8e9",
   "metadata": {},
   "outputs": [
    {
     "ename": "SyntaxError",
     "evalue": "invalid syntax (Temp/ipykernel_5816/3953263057.py, line 1)",
     "output_type": "error",
     "traceback": [
      "\u001b[1;36m  File \u001b[1;32m\"C:\\Users\\USER20~1\\AppData\\Local\\Temp/ipykernel_5816/3953263057.py\"\u001b[1;36m, line \u001b[1;32m1\u001b[0m\n\u001b[1;33m    d1={\"Name\":\"Python\",\"Email\":\"Python@gmail.com\",\"city\"}\u001b[0m\n\u001b[1;37m                                                         ^\u001b[0m\n\u001b[1;31mSyntaxError\u001b[0m\u001b[1;31m:\u001b[0m invalid syntax\n"
     ]
    }
   ],
   "source": [
    "d1={\"Name\":\"Python\",\"Email\":\"Python@gmail.com\",\"city\"}\n",
    "print(d1)\n",
    "print(type(d1))"
   ]
  },
  {
   "cell_type": "code",
   "execution_count": 10,
   "id": "be5fc2c3",
   "metadata": {},
   "outputs": [
    {
     "name": "stdout",
     "output_type": "stream",
     "text": [
      "{'name': 'Python', 'Email': 'python@gmail.com'}\n"
     ]
    }
   ],
   "source": [
    "d1={\"name\":\"Python\",\"Email\":\"python@gmail.com\"}\n",
    "print(d1)"
   ]
  },
  {
   "cell_type": "markdown",
   "id": "b90ec4b7",
   "metadata": {},
   "source": [
    "# FUNCTIONING"
   ]
  },
  {
   "cell_type": "code",
   "execution_count": 11,
   "id": "dfc52f66",
   "metadata": {},
   "outputs": [
    {
     "ename": "SyntaxError",
     "evalue": "invalid syntax (Temp/ipykernel_5816/1658949040.py, line 2)",
     "output_type": "error",
     "traceback": [
      "\u001b[1;36m  File \u001b[1;32m\"C:\\Users\\USER20~1\\AppData\\Local\\Temp/ipykernel_5816/1658949040.py\"\u001b[1;36m, line \u001b[1;32m2\u001b[0m\n\u001b[1;33m    def <Function-name><Parameters>:\u001b[0m\n\u001b[1;37m        ^\u001b[0m\n\u001b[1;31mSyntaxError\u001b[0m\u001b[1;31m:\u001b[0m invalid syntax\n"
     ]
    }
   ],
   "source": [
    "# SYNTAX\n",
    "def <Function-name><Parameters>:\n",
    "    Statement\n",
    "    return\n"
   ]
  },
  {
   "cell_type": "code",
   "execution_count": 15,
   "id": "03042a24",
   "metadata": {},
   "outputs": [
    {
     "name": "stdout",
     "output_type": "stream",
     "text": [
      "9\n",
      "-1\n",
      "20\n"
     ]
    }
   ],
   "source": [
    "#Add 2 numbers\n",
    "def add(x,y):\n",
    "    print(x+y)\n",
    "    print(x-y)\n",
    "    print(x*y)\n",
    "add(4,5)"
   ]
  },
  {
   "cell_type": "code",
   "execution_count": 16,
   "id": "d0fd1ccc",
   "metadata": {},
   "outputs": [
    {
     "name": "stdout",
     "output_type": "stream",
     "text": [
      "125\n"
     ]
    }
   ],
   "source": [
    "#cube \n",
    "def cube(a):\n",
    "    print(a*a*a)\n",
    "cube(5)"
   ]
  },
  {
   "cell_type": "code",
   "execution_count": 17,
   "id": "64556aa1",
   "metadata": {},
   "outputs": [
    {
     "name": "stdout",
     "output_type": "stream",
     "text": [
      "91125\n"
     ]
    }
   ],
   "source": [
    "cube(45)"
   ]
  },
  {
   "cell_type": "code",
   "execution_count": 18,
   "id": "3a5f4a62",
   "metadata": {},
   "outputs": [
    {
     "data": {
      "text/plain": [
       "12"
      ]
     },
     "execution_count": 18,
     "metadata": {},
     "output_type": "execute_result"
    }
   ],
   "source": [
    "# Input:123456\n",
    "#Output:(2+4+6)=12\n",
    "def even(x):\n",
    "    sum=0\n",
    "    while x!=0:\n",
    "        a=x%10\n",
    "        if a%2==0:\n",
    "            sum=sum+a\n",
    "        x=x//10\n",
    "    return sum\n",
    "even(123456)"
   ]
  },
  {
   "cell_type": "code",
   "execution_count": 19,
   "id": "6483ea0c",
   "metadata": {},
   "outputs": [
    {
     "data": {
      "text/plain": [
       "20"
      ]
     },
     "execution_count": 19,
     "metadata": {},
     "output_type": "execute_result"
    }
   ],
   "source": [
    "def even(x):\n",
    "    sum=0\n",
    "    while x!=0:\n",
    "        a=x%10\n",
    "        if a%2==0:\n",
    "            sum=sum+a\n",
    "        x=x//10\n",
    "    return sum\n",
    "even(123456789)"
   ]
  },
  {
   "cell_type": "code",
   "execution_count": 20,
   "id": "2176e418",
   "metadata": {},
   "outputs": [
    {
     "data": {
      "text/plain": [
       "25"
      ]
     },
     "execution_count": 20,
     "metadata": {},
     "output_type": "execute_result"
    }
   ],
   "source": [
    " def odd(x):\n",
    "    sum=0\n",
    "    while x!=0:\n",
    "        a=x%10\n",
    "        if a%2!=0:\n",
    "            sum=sum+a\n",
    "        x=x//10\n",
    "    return sum\n",
    "odd(123456789)"
   ]
  },
  {
   "cell_type": "code",
   "execution_count": 21,
   "id": "92d4275d",
   "metadata": {},
   "outputs": [
    {
     "data": {
      "text/plain": [
       "6"
      ]
     },
     "execution_count": 21,
     "metadata": {},
     "output_type": "execute_result"
    }
   ],
   "source": [
    "#Large\n",
    "def large(n):\n",
    "    large=0\n",
    "    while n!=0:\n",
    "        a=n%10\n",
    "        if large<a:\n",
    "            large=a\n",
    "        n=n//10\n",
    "    return large\n",
    "large(123456)"
   ]
  },
  {
   "cell_type": "code",
   "execution_count": 22,
   "id": "6c7ad26a",
   "metadata": {},
   "outputs": [
    {
     "data": {
      "text/plain": [
       "0"
      ]
     },
     "execution_count": 22,
     "metadata": {},
     "output_type": "execute_result"
    }
   ],
   "source": [
    "#small\n",
    "def small(n):\n",
    "    small=0\n",
    "    while n!=0:\n",
    "        a=n%10\n",
    "        if small>a:\n",
    "            small=a\n",
    "        n=n//10\n",
    "    return small\n",
    "small(123456)"
   ]
  },
  {
   "cell_type": "code",
   "execution_count": 23,
   "id": "fa4e7b2c",
   "metadata": {},
   "outputs": [
    {
     "data": {
      "text/plain": [
       "321"
      ]
     },
     "execution_count": 23,
     "metadata": {},
     "output_type": "execute_result"
    }
   ],
   "source": [
    "# input 123\n",
    "#output 321\n",
    "def reverse(n):\n",
    "    rev=0\n",
    "    while n!=0:\n",
    "        a=n%10\n",
    "        rev=rev*10+a\n",
    "        n=n//10\n",
    "    return rev\n",
    "reverse(123)"
   ]
  },
  {
   "cell_type": "code",
   "execution_count": 24,
   "id": "910901c0",
   "metadata": {},
   "outputs": [
    {
     "ename": "UnboundLocalError",
     "evalue": "local variable 'i' referenced before assignment",
     "output_type": "error",
     "traceback": [
      "\u001b[1;31m---------------------------------------------------------------------------\u001b[0m",
      "\u001b[1;31mUnboundLocalError\u001b[0m                         Traceback (most recent call last)",
      "\u001b[1;32mC:\\Users\\USER20~1\\AppData\\Local\\Temp/ipykernel_5816/528810616.py\u001b[0m in \u001b[0;36m<module>\u001b[1;34m\u001b[0m\n\u001b[0;32m      3\u001b[0m     \u001b[1;32mfor\u001b[0m \u001b[0mi\u001b[0m \u001b[1;32min\u001b[0m \u001b[0mrange\u001b[0m\u001b[1;33m(\u001b[0m\u001b[0mi\u001b[0m\u001b[1;33m,\u001b[0m\u001b[0mn\u001b[0m\u001b[1;33m+\u001b[0m\u001b[1;36m1\u001b[0m\u001b[1;33m)\u001b[0m\u001b[1;33m:\u001b[0m\u001b[1;33m\u001b[0m\u001b[1;33m\u001b[0m\u001b[0m\n\u001b[0;32m      4\u001b[0m         \u001b[0mprint\u001b[0m\u001b[1;33m(\u001b[0m\u001b[0mn\u001b[0m\u001b[1;33m)\u001b[0m\u001b[1;33m\u001b[0m\u001b[1;33m\u001b[0m\u001b[0m\n\u001b[1;32m----> 5\u001b[1;33m \u001b[0mnumber\u001b[0m\u001b[1;33m(\u001b[0m\u001b[1;36m2\u001b[0m\u001b[1;33m)\u001b[0m\u001b[1;33m\u001b[0m\u001b[1;33m\u001b[0m\u001b[0m\n\u001b[0m",
      "\u001b[1;32mC:\\Users\\USER20~1\\AppData\\Local\\Temp/ipykernel_5816/528810616.py\u001b[0m in \u001b[0;36mnumber\u001b[1;34m(n)\u001b[0m\n\u001b[0;32m      1\u001b[0m \u001b[1;31m# N Natural number\u001b[0m\u001b[1;33m\u001b[0m\u001b[1;33m\u001b[0m\u001b[0m\n\u001b[0;32m      2\u001b[0m \u001b[1;32mdef\u001b[0m \u001b[0mnumber\u001b[0m\u001b[1;33m(\u001b[0m\u001b[0mn\u001b[0m\u001b[1;33m)\u001b[0m\u001b[1;33m:\u001b[0m\u001b[1;33m\u001b[0m\u001b[1;33m\u001b[0m\u001b[0m\n\u001b[1;32m----> 3\u001b[1;33m     \u001b[1;32mfor\u001b[0m \u001b[0mi\u001b[0m \u001b[1;32min\u001b[0m \u001b[0mrange\u001b[0m\u001b[1;33m(\u001b[0m\u001b[0mi\u001b[0m\u001b[1;33m,\u001b[0m\u001b[0mn\u001b[0m\u001b[1;33m+\u001b[0m\u001b[1;36m1\u001b[0m\u001b[1;33m)\u001b[0m\u001b[1;33m:\u001b[0m\u001b[1;33m\u001b[0m\u001b[1;33m\u001b[0m\u001b[0m\n\u001b[0m\u001b[0;32m      4\u001b[0m         \u001b[0mprint\u001b[0m\u001b[1;33m(\u001b[0m\u001b[0mn\u001b[0m\u001b[1;33m)\u001b[0m\u001b[1;33m\u001b[0m\u001b[1;33m\u001b[0m\u001b[0m\n\u001b[0;32m      5\u001b[0m \u001b[0mnumber\u001b[0m\u001b[1;33m(\u001b[0m\u001b[1;36m2\u001b[0m\u001b[1;33m)\u001b[0m\u001b[1;33m\u001b[0m\u001b[1;33m\u001b[0m\u001b[0m\n",
      "\u001b[1;31mUnboundLocalError\u001b[0m: local variable 'i' referenced before assignment"
     ]
    }
   ],
   "source": [
    "# N Natural number\n",
    "def number(n):\n",
    "    for i in range(i,n+1):\n",
    "        print(n)\n",
    "number(2)"
   ]
  },
  {
   "cell_type": "code",
   "execution_count": null,
   "id": "a2ddf349",
   "metadata": {},
   "outputs": [],
   "source": []
  }
 ],
 "metadata": {
  "kernelspec": {
   "display_name": "Python 3 (ipykernel)",
   "language": "python",
   "name": "python3"
  },
  "language_info": {
   "codemirror_mode": {
    "name": "ipython",
    "version": 3
   },
   "file_extension": ".py",
   "mimetype": "text/x-python",
   "name": "python",
   "nbconvert_exporter": "python",
   "pygments_lexer": "ipython3",
   "version": "3.9.7"
  }
 },
 "nbformat": 4,
 "nbformat_minor": 5
}
